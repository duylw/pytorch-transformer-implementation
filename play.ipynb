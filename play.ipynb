{
 "cells": [
  {
   "cell_type": "code",
   "execution_count": 1,
   "id": "e5c3f757",
   "metadata": {},
   "outputs": [],
   "source": [
    "from src.transformer_model import Transformer\n",
    "\n",
    "import torch\n",
    "import torch.nn as nn\n",
    "import torch.optim as optim"
   ]
  },
  {
   "cell_type": "code",
   "execution_count": 3,
   "id": "f19f5eb1",
   "metadata": {},
   "outputs": [],
   "source": [
    "def make_src_mask(src, pad_token_id=0):\n",
    "    \"\"\"Create a padding mask for the input tensor.\n",
    "\n",
    "    Args:\n",
    "        src (Tensor): The input tensor of shape (B, S).\n",
    "        pad_token_id (int, optional): The padding token ID. Defaults to 0.\n",
    "\n",
    "    Returns:\n",
    "        Tensor: The padding mask of shape (B, 1, 1, S).\n",
    "    \"\"\"\n",
    "    columns_mask = (src != pad_token_id).unsqueeze(1).unsqueeze(2)  # -> (B, 1, 1, S)\n",
    "    rows_mask = (src != pad_token_id).unsqueeze(1).unsqueeze(3)     # -> (B, 1, S, 1)\n",
    "    return columns_mask & rows_mask"
   ]
  },
  {
   "cell_type": "code",
   "execution_count": null,
   "id": "3f84f101",
   "metadata": {},
   "outputs": [
    {
     "data": {
      "text/plain": [
       "['i', 'dont', 'know']"
      ]
     },
     "execution_count": 14,
     "metadata": {},
     "output_type": "execute_result"
    }
   ],
   "source": [
    "tokens = [3, 2, 1]\n",
    "tokens"
   ]
  },
  {
   "cell_type": "code",
   "execution_count": 10,
   "id": "2d9f87c5",
   "metadata": {},
   "outputs": [
    {
     "ename": "ValueError",
     "evalue": "too many dimensions 'str'",
     "output_type": "error",
     "traceback": [
      "\u001b[31m---------------------------------------------------------------------------\u001b[39m",
      "\u001b[31mValueError\u001b[39m                                Traceback (most recent call last)",
      "\u001b[36mCell\u001b[39m\u001b[36m \u001b[39m\u001b[32mIn[10]\u001b[39m\u001b[32m, line 1\u001b[39m\n\u001b[32m----> \u001b[39m\u001b[32m1\u001b[39m src = \u001b[43mtorch\u001b[49m\u001b[43m.\u001b[49m\u001b[43mtensor\u001b[49m\u001b[43m(\u001b[49m\u001b[43m[\u001b[49m\u001b[43mtokens\u001b[49m\u001b[43m]\u001b[49m\u001b[43m)\u001b[49m\n",
      "\u001b[31mValueError\u001b[39m: too many dimensions 'str'"
     ]
    }
   ],
   "source": [
    "src = torch.tensor([tokens])"
   ]
  }
 ],
 "metadata": {
  "kernelspec": {
   "display_name": ".env",
   "language": "python",
   "name": "python3"
  },
  "language_info": {
   "codemirror_mode": {
    "name": "ipython",
    "version": 3
   },
   "file_extension": ".py",
   "mimetype": "text/x-python",
   "name": "python",
   "nbconvert_exporter": "python",
   "pygments_lexer": "ipython3",
   "version": "3.13.5"
  }
 },
 "nbformat": 4,
 "nbformat_minor": 5
}
